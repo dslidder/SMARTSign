{
  "nbformat": 4,
  "nbformat_minor": 0,
  "metadata": {
    "colab": {
      "name": "SmartSignProject_AndrewBonilla_Draft1.ipynb",
      "provenance": [],
      "collapsed_sections": [],
      "include_colab_link": true
    },
    "kernelspec": {
      "name": "python3",
      "display_name": "Python 3"
    },
    "language_info": {
      "name": "python"
    },
    "accelerator": "GPU",
    "gpuClass": "standard"
  },
  "cells": [
    {
      "cell_type": "markdown",
      "metadata": {
        "id": "view-in-github",
        "colab_type": "text"
      },
      "source": [
        "<a href=\"https://colab.research.google.com/github/dslidder/SMARTSign/blob/main/SmartSignProject_AndrewBonilla_Draft1.ipynb\" target=\"_parent\"><img src=\"https://colab.research.google.com/assets/colab-badge.svg\" alt=\"Open In Colab\"/></a>"
      ]
    },
    {
      "cell_type": "code",
      "source": [
        "import tensorflow as tf\n",
        "import matplotlib.pyplot as plt\n",
        "import os\n",
        "import zipfile\n",
        "import random\n",
        "from tensorflow.keras.optimizers import RMSprop\n",
        "from tensorflow.keras.preprocessing.image import ImageDataGenerator\n",
        "from shutil import copyfile"
      ],
      "metadata": {
        "id": "SaDMb_9SII-K"
      },
      "execution_count": null,
      "outputs": []
    },
    {
      "cell_type": "code",
      "source": [
        "! pip install kaggle\n",
        "! mkdir ~/.kaggle\n",
        "! cp kaggle.json ~/.kaggle/\n",
        "! chmod 600 ~/.kaggle/kaggle.json\n",
        "\n",
        "! kaggle datasets download grassknoted/asl-alphabet\n",
        "\n",
        "!unzip asl-alphabet"
      ],
      "metadata": {
        "id": "LiJBrZCKI5dj",
        "colab": {
          "base_uri": "https://localhost:8080/"
        },
        "outputId": "6cc98d83-745d-4cba-9dfc-8783e798aec7"
      },
      "execution_count": null,
      "outputs": [
        {
          "output_type": "stream",
          "name": "stdout",
          "text": [
            "Looking in indexes: https://pypi.org/simple, https://us-python.pkg.dev/colab-wheels/public/simple/\n",
            "Requirement already satisfied: kaggle in /usr/local/lib/python3.7/dist-packages (1.5.12)\n",
            "Requirement already satisfied: tqdm in /usr/local/lib/python3.7/dist-packages (from kaggle) (4.64.0)\n",
            "Requirement already satisfied: requests in /usr/local/lib/python3.7/dist-packages (from kaggle) (2.23.0)\n",
            "Requirement already satisfied: certifi in /usr/local/lib/python3.7/dist-packages (from kaggle) (2022.6.15)\n",
            "Requirement already satisfied: six>=1.10 in /usr/local/lib/python3.7/dist-packages (from kaggle) (1.15.0)\n",
            "Requirement already satisfied: urllib3 in /usr/local/lib/python3.7/dist-packages (from kaggle) (1.24.3)\n",
            "Requirement already satisfied: python-dateutil in /usr/local/lib/python3.7/dist-packages (from kaggle) (2.8.2)\n",
            "Requirement already satisfied: python-slugify in /usr/local/lib/python3.7/dist-packages (from kaggle) (6.1.2)\n",
            "Requirement already satisfied: text-unidecode>=1.3 in /usr/local/lib/python3.7/dist-packages (from python-slugify->kaggle) (1.3)\n",
            "Requirement already satisfied: idna<3,>=2.5 in /usr/local/lib/python3.7/dist-packages (from requests->kaggle) (2.10)\n",
            "Requirement already satisfied: chardet<4,>=3.0.2 in /usr/local/lib/python3.7/dist-packages (from requests->kaggle) (3.0.4)\n",
            "mkdir: cannot create directory ‘/root/.kaggle’: File exists\n",
            "Downloading asl-alphabet.zip to /content\n",
            " 99% 1.02G/1.03G [00:04<00:00, 240MB/s]\n",
            "100% 1.03G/1.03G [00:04<00:00, 239MB/s]\n",
            "Archive:  asl-alphabet.zip\n",
            "replace asl_alphabet_test/asl_alphabet_test/A_test.jpg? [y]es, [n]o, [A]ll, [N]one, [r]ename: n\n",
            "replace asl_alphabet_test/asl_alphabet_test/B_test.jpg? [y]es, [n]o, [A]ll, [N]one, [r]ename: n\n",
            "replace asl_alphabet_test/asl_alphabet_test/C_test.jpg? [y]es, [n]o, [A]ll, [N]one, [r]ename: n\n",
            "replace asl_alphabet_test/asl_alphabet_test/D_test.jpg? [y]es, [n]o, [A]ll, [N]one, [r]ename: n\n",
            "replace asl_alphabet_test/asl_alphabet_test/E_test.jpg? [y]es, [n]o, [A]ll, [N]one, [r]ename: n\n",
            "replace asl_alphabet_test/asl_alphabet_test/F_test.jpg? [y]es, [n]o, [A]ll, [N]one, [r]ename: n\n",
            "replace asl_alphabet_test/asl_alphabet_test/G_test.jpg? [y]es, [n]o, [A]ll, [N]one, [r]ename: n\n",
            "replace asl_alphabet_test/asl_alphabet_test/H_test.jpg? [y]es, [n]o, [A]ll, [N]one, [r]ename: n\n",
            "replace asl_alphabet_test/asl_alphabet_test/I_test.jpg? [y]es, [n]o, [A]ll, [N]one, [r]ename: n\n",
            "replace asl_alphabet_test/asl_alphabet_test/J_test.jpg? [y]es, [n]o, [A]ll, [N]one, [r]ename: n\n",
            "replace asl_alphabet_test/asl_alphabet_test/K_test.jpg? [y]es, [n]o, [A]ll, [N]one, [r]ename: n\n",
            "replace asl_alphabet_test/asl_alphabet_test/L_test.jpg? [y]es, [n]o, [A]ll, [N]one, [r]ename: n\n",
            "replace asl_alphabet_test/asl_alphabet_test/M_test.jpg? [y]es, [n]o, [A]ll, [N]one, [r]ename: n\n",
            "replace asl_alphabet_test/asl_alphabet_test/N_test.jpg? [y]es, [n]o, [A]ll, [N]one, [r]ename: n\n",
            "replace asl_alphabet_test/asl_alphabet_test/O_test.jpg? [y]es, [n]o, [A]ll, [N]one, [r]ename: n\n",
            "replace asl_alphabet_test/asl_alphabet_test/P_test.jpg? [y]es, [n]o, [A]ll, [N]one, [r]ename: n\n",
            "replace asl_alphabet_test/asl_alphabet_test/Q_test.jpg? [y]es, [n]o, [A]ll, [N]one, [r]ename: n\n",
            "replace asl_alphabet_test/asl_alphabet_test/R_test.jpg? [y]es, [n]o, [A]ll, [N]one, [r]ename: n\n",
            "replace asl_alphabet_test/asl_alphabet_test/S_test.jpg? [y]es, [n]o, [A]ll, [N]one, [r]ename: n\n",
            "replace asl_alphabet_test/asl_alphabet_test/T_test.jpg? [y]es, [n]o, [A]ll, [N]one, [r]ename: n\n",
            "replace asl_alphabet_test/asl_alphabet_test/U_test.jpg? [y]es, [n]o, [A]ll, [N]one, [r]ename: n\n",
            "replace asl_alphabet_test/asl_alphabet_test/V_test.jpg? [y]es, [n]o, [A]ll, [N]one, [r]ename: n\n",
            "replace asl_alphabet_test/asl_alphabet_test/W_test.jpg? [y]es, [n]o, [A]ll, [N]one, [r]ename: n\n",
            "replace asl_alphabet_test/asl_alphabet_test/X_test.jpg? [y]es, [n]o, [A]ll, [N]one, [r]ename: n\n",
            "replace asl_alphabet_test/asl_alphabet_test/Y_test.jpg? [y]es, [n]o, [A]ll, [N]one, [r]ename: n\n",
            "replace asl_alphabet_test/asl_alphabet_test/Z_test.jpg? [y]es, [n]o, [A]ll, [N]one, [r]ename: n\n",
            "replace asl_alphabet_test/asl_alphabet_test/nothing_test.jpg? [y]es, [n]o, [A]ll, [N]one, [r]ename: n\n",
            "replace asl_alphabet_test/asl_alphabet_test/space_test.jpg? [y]es, [n]o, [A]ll, [N]one, [r]ename: n\n",
            "replace asl_alphabet_train/asl_alphabet_train/A/A1.jpg? [y]es, [n]o, [A]ll, [N]one, [r]ename: \n",
            "error:  invalid response [{ENTER}]\n",
            "replace asl_alphabet_train/asl_alphabet_train/A/A1.jpg? [y]es, [n]o, [A]ll, [N]one, [r]ename: nn\n",
            "replace asl_alphabet_train/asl_alphabet_train/A/A10.jpg? [y]es, [n]o, [A]ll, [N]one, [r]ename: n\n",
            "replace asl_alphabet_train/asl_alphabet_train/A/A100.jpg? [y]es, [n]o, [A]ll, [N]one, [r]ename: n\n",
            "replace asl_alphabet_train/asl_alphabet_train/A/A1000.jpg? [y]es, [n]o, [A]ll, [N]one, [r]ename: n\n",
            "replace asl_alphabet_train/asl_alphabet_train/A/A1001.jpg? [y]es, [n]o, [A]ll, [N]one, [r]ename: n\n",
            "replace asl_alphabet_train/asl_alphabet_train/A/A1002.jpg? [y]es, [n]o, [A]ll, [N]one, [r]ename: n\n",
            "replace asl_alphabet_train/asl_alphabet_train/A/A1003.jpg? [y]es, [n]o, [A]ll, [N]one, [r]ename: n\n",
            "replace asl_alphabet_train/asl_alphabet_train/A/A1004.jpg? [y]es, [n]o, [A]ll, [N]one, [r]ename: n\n",
            "replace asl_alphabet_train/asl_alphabet_train/A/A1005.jpg? [y]es, [n]o, [A]ll, [N]one, [r]ename: n\n",
            "replace asl_alphabet_train/asl_alphabet_train/A/A1006.jpg? [y]es, [n]o, [A]ll, [N]one, [r]ename: n\n",
            "replace asl_alphabet_train/asl_alphabet_train/A/A1007.jpg? [y]es, [n]o, [A]ll, [N]one, [r]ename: "
          ]
        }
      ]
    },
    {
      "cell_type": "code",
      "source": [
        "! rm -rf asl-alphabet.zip\n",
        "# just removing the asl-alphabet zip file, not sure why it is still here despite me having unzipped it, so I hope this isn't a bad idea"
      ],
      "metadata": {
        "id": "C2mJNwfrO2_v"
      },
      "execution_count": null,
      "outputs": []
    },
    {
      "cell_type": "code",
      "source": [
        "try:\n",
        "    os.mkdir('/tmp/asldata')\n",
        "    os.mkdir('/tmp/asldata/train')\n",
        "    os.mkdir('/tmp/asldata/test')\n",
        "    #os.mkdir('/tmp/asldata/train/cats')\n",
        "    #os.mkdir('/tmp/cats-and-dogs/train/dogs')\n",
        "    #os.mkdir('/tmp/cats-and-dogs/test/cats')\n",
        "    #os.mkdir('/tmp/cats-and-dogs/test/dogs')\n",
        "except OSError:\n",
        "    pass"
      ],
      "metadata": {
        "id": "KMD_SkLlLWtx"
      },
      "execution_count": null,
      "outputs": []
    },
    {
      "cell_type": "code",
      "source": [
        "try:\n",
        "    os.mkdir('/tmp/asldata/train/A')\n",
        "    os.mkdir('/tmp/asldata/train/B')\n",
        "    os.mkdir('/tmp/asldata/train/C')\n",
        "    os.mkdir('/tmp/asldata/train/D')\n",
        "    os.mkdir('/tmp/asldata/train/E')\n",
        "    os.mkdir('/tmp/asldata/train/F')\n",
        "    os.mkdir('/tmp/asldata/train/G')\n",
        "    os.mkdir('/tmp/asldata/train/H')\n",
        "    os.mkdir('/tmp/asldata/train/I')\n",
        "    os.mkdir('/tmp/asldata/train/J')\n",
        "    os.mkdir('/tmp/asldata/train/K')\n",
        "    os.mkdir('/tmp/asldata/train/L')\n",
        "    os.mkdir('/tmp/asldata/train/M')\n",
        "    os.mkdir('/tmp/asldata/train/N')\n",
        "    os.mkdir('/tmp/asldata/train/O')\n",
        "    os.mkdir('/tmp/asldata/train/P')\n",
        "    os.mkdir('/tmp/asldata/train/Q')\n",
        "    os.mkdir('/tmp/asldata/train/R')\n",
        "    os.mkdir('/tmp/asldata/train/S')\n",
        "    os.mkdir('/tmp/asldata/train/T')\n",
        "    os.mkdir('/tmp/asldata/train/U')\n",
        "    os.mkdir('/tmp/asldata/train/V')\n",
        "    os.mkdir('/tmp/asldata/train/W')\n",
        "    os.mkdir('/tmp/asldata/train/X')\n",
        "    os.mkdir('/tmp/asldata/train/Y')\n",
        "    os.mkdir('/tmp/asldata/train/Z')\n",
        "    os.mkdir('/tmp/asldata/train/space')\n",
        "    os.mkdir('/tmp/asldata/train/nothing')\n",
        "except OSError:\n",
        "  pass"
      ],
      "metadata": {
        "id": "WSBthM_QWvTc"
      },
      "execution_count": null,
      "outputs": []
    },
    {
      "cell_type": "code",
      "source": [
        "try:\n",
        "    os.mkdir('/tmp/asldata/test/A')\n",
        "    os.mkdir('/tmp/asldata/test/B')\n",
        "    os.mkdir('/tmp/asldata/test/C')\n",
        "    os.mkdir('/tmp/asldata/test/D')\n",
        "    os.mkdir('/tmp/asldata/test/E')\n",
        "    os.mkdir('/tmp/asldata/test/F')\n",
        "    os.mkdir('/tmp/asldata/test/G')\n",
        "    os.mkdir('/tmp/asldata/test/H')\n",
        "    os.mkdir('/tmp/asldata/test/I')\n",
        "    os.mkdir('/tmp/asldata/test/J')\n",
        "    os.mkdir('/tmp/asldata/test/K')\n",
        "    os.mkdir('/tmp/asldata/test/L')\n",
        "    os.mkdir('/tmp/asldata/test/M')\n",
        "    os.mkdir('/tmp/asldata/test/N')\n",
        "    os.mkdir('/tmp/asldata/test/O')\n",
        "    os.mkdir('/tmp/asldata/test/P')\n",
        "    os.mkdir('/tmp/asldata/test/Q')\n",
        "    os.mkdir('/tmp/asldata/test/R')\n",
        "    os.mkdir('/tmp/asldata/test/S')\n",
        "    os.mkdir('/tmp/asldata/test/T')\n",
        "    os.mkdir('/tmp/asldata/test/U')\n",
        "    os.mkdir('/tmp/asldata/test/V')\n",
        "    os.mkdir('/tmp/asldata/test/W')\n",
        "    os.mkdir('/tmp/asldata/test/X')\n",
        "    os.mkdir('/tmp/asldata/test/Y')\n",
        "    os.mkdir('/tmp/asldata/test/Z')\n",
        "    os.mkdir('/tmp/asldata/test/space')\n",
        "    os.mkdir('/tmp/asldata/test/nothing')\n",
        "except OSError:\n",
        "  pass"
      ],
      "metadata": {
        "id": "_nyhZpV7W5zU"
      },
      "execution_count": null,
      "outputs": []
    },
    {
      "cell_type": "code",
      "source": [
        "for filename in os.listdir(\"/tmp/asldata/test/Y\"): # So the test files themselves are here\n",
        "  print(filename)"
      ],
      "metadata": {
        "id": "M92DtsmDPulv"
      },
      "execution_count": null,
      "outputs": []
    },
    {
      "cell_type": "code",
      "source": [
        "! rm -rf asl_alphabet_train/asl_alphabet_train/del\n",
        "# idk what this folder is so i deleted it"
      ],
      "metadata": {
        "id": "InKyZkqtXUGv"
      },
      "execution_count": null,
      "outputs": []
    },
    {
      "cell_type": "code",
      "source": [
        "def split_data(SOURCE, TRAINING, TESTING, SPLIT_SIZE):\n",
        "    files = []\n",
        "    for filename in os.listdir(SOURCE):\n",
        "      for image in os.listdir(SOURCE + filename):\n",
        "        file = SOURCE + filename + \"/\" + image\n",
        "        if os.path.getsize(file) > 0:\n",
        "            files.append(filename + \"/\" + image)\n",
        "        else:\n",
        "            print(image + \" is zero length, so ignoring.\")\n",
        "\n",
        "    training_length = int(len(files) * SPLIT_SIZE)\n",
        "    testing_length = int(len(files) - training_length)\n",
        "    shuffled_set = random.sample(files, len(files))\n",
        "    training_set = shuffled_set[0:training_length]\n",
        "    testing_set = shuffled_set[-testing_length:]\n",
        "\n",
        "    for filename in training_set:\n",
        "        this_file = SOURCE + filename\n",
        "        destination = TRAINING + filename\n",
        "        copyfile(this_file, destination)\n",
        "\n",
        "    for filename in testing_set:\n",
        "        this_file = SOURCE + filename\n",
        "        destination = TESTING + filename\n",
        "        copyfile(this_file, destination)\n",
        "\n",
        "\n",
        "Source_DIR = \"asl_alphabet_train/asl_alphabet_train/\"\n",
        "Training_DIR = \"/tmp/asldata/train/\"\n",
        "Testing_DIR = \"/tmp/asldata/test/\"\n",
        "\n",
        "split_size = .9\n",
        "split_data(Source_DIR, Training_DIR, Testing_DIR, split_size)"
      ],
      "metadata": {
        "id": "rTnCb9suN1T1"
      },
      "execution_count": null,
      "outputs": []
    },
    {
      "cell_type": "code",
      "source": [
        "for filename in os.listdir(\"/tmp/asldata/test/Y\"): # So the test files themselves are here\n",
        "  print(filename)"
      ],
      "metadata": {
        "id": "M7QpsGXMXmp9"
      },
      "execution_count": null,
      "outputs": []
    },
    {
      "cell_type": "code",
      "source": [
        "base_dir = '/tmp/asldata'\n",
        "train_dir = os.path.join(base_dir, 'train')\n",
        "validation_dir = os.path.join(base_dir, 'test')\n",
        "\n",
        "# Directory with our training cat pictures\n",
        "#train_A_dir = os.path.join(train_dir, 'cats')\n",
        "\n",
        "# Directory with our training dog pictures\n",
        "#train_dogs_dir = os.path.join(train_dir, 'dogs')\n",
        "\n",
        "# Directory with our validation cat pictures\n",
        "#validation_cats_dir = os.path.join(validation_dir, 'cats')\n",
        "\n",
        "# Directory with our validation dog pictures\n",
        "#validation_dogs_dir = os.path.join(validation_dir, 'dogs')"
      ],
      "metadata": {
        "id": "ky-ZScwaXtqX"
      },
      "execution_count": null,
      "outputs": []
    },
    {
      "cell_type": "code",
      "source": [
        "train_datagen = ImageDataGenerator(rescale=1./255)\n",
        "test_datagen = ImageDataGenerator(rescale=1./255)\n",
        "\n",
        "train_generator = train_datagen.flow_from_directory(\n",
        "        train_dir,\n",
        "        target_size=(112, 112),\n",
        "        batch_size=20,\n",
        "        class_mode='categorical')\n",
        "\n",
        "validation_generator = test_datagen.flow_from_directory(\n",
        "        validation_dir,\n",
        "        target_size=(112, 112),\n",
        "        batch_size=20,\n",
        "        class_mode='categorical')"
      ],
      "metadata": {
        "colab": {
          "base_uri": "https://localhost:8080/"
        },
        "id": "VZN4YeolY-TV",
        "outputId": "3790748e-e0ec-48d0-b791-98ed7e1bc599"
      },
      "execution_count": null,
      "outputs": [
        {
          "output_type": "stream",
          "name": "stdout",
          "text": [
            "Found 75601 images belonging to 28 classes.\n",
            "Found 8400 images belonging to 28 classes.\n"
          ]
        }
      ]
    },
    {
      "cell_type": "code",
      "source": [
        "model = tf.keras.models.Sequential([\n",
        "  tf.keras.layers.Conv2D(16, (2,2), activation='relu', input_shape=(112, 112, 3)),\n",
        "  tf.keras.layers.MaxPooling2D(2, 2),\n",
        "  tf.keras.layers.Conv2D(32, (2,2), activation='relu'),\n",
        "  tf.keras.layers.MaxPooling2D(2, 2),\n",
        "  tf.keras.layers.Conv2D(64, (2,2), activation='relu'),\n",
        "  tf.keras.layers.MaxPooling2D(2, 2),\n",
        "  tf.keras.layers.Flatten(),\n",
        "  tf.keras.layers.Dense(138, activation='relu'),\n",
        "  tf.keras.layers.Dense(28, activation='softmax')\n",
        "])\n",
        "\n",
        "model.compile(optimizer='rmsprop', loss='categorical_crossentropy', metrics=['accuracy'])\n",
        "history = model.fit(train_generator, epochs=20, validation_data=validation_generator,steps_per_epoch=100,validation_steps=50,verbose=1)"
      ],
      "metadata": {
        "colab": {
          "base_uri": "https://localhost:8080/"
        },
        "id": "OKepzwgWZXNp",
        "outputId": "f107542a-53d1-4373-962d-a386f1282f16"
      },
      "execution_count": null,
      "outputs": [
        {
          "output_type": "stream",
          "name": "stdout",
          "text": [
            "Epoch 1/20\n",
            "100/100 [==============================] - 5s 43ms/step - loss: 3.3482 - accuracy: 0.0625 - val_loss: 3.1123 - val_accuracy: 0.1660\n",
            "Epoch 2/20\n",
            "100/100 [==============================] - 4s 41ms/step - loss: 2.7917 - accuracy: 0.2100 - val_loss: 2.5665 - val_accuracy: 0.2390\n",
            "Epoch 3/20\n",
            "100/100 [==============================] - 4s 40ms/step - loss: 2.3197 - accuracy: 0.3300 - val_loss: 2.1028 - val_accuracy: 0.3480\n",
            "Epoch 4/20\n",
            "100/100 [==============================] - 4s 41ms/step - loss: 2.0181 - accuracy: 0.3985 - val_loss: 1.8756 - val_accuracy: 0.4170\n",
            "Epoch 5/20\n",
            "100/100 [==============================] - 4s 40ms/step - loss: 1.7113 - accuracy: 0.4775 - val_loss: 1.6724 - val_accuracy: 0.4760\n",
            "Epoch 6/20\n",
            "100/100 [==============================] - 4s 41ms/step - loss: 1.4734 - accuracy: 0.5525 - val_loss: 1.3704 - val_accuracy: 0.5940\n",
            "Epoch 7/20\n",
            "100/100 [==============================] - 4s 41ms/step - loss: 1.2715 - accuracy: 0.6045 - val_loss: 1.0857 - val_accuracy: 0.6620\n",
            "Epoch 8/20\n",
            "100/100 [==============================] - 4s 40ms/step - loss: 1.0890 - accuracy: 0.6480 - val_loss: 1.4700 - val_accuracy: 0.5240\n",
            "Epoch 9/20\n",
            "100/100 [==============================] - 5s 47ms/step - loss: 1.0019 - accuracy: 0.6825 - val_loss: 0.9257 - val_accuracy: 0.6950\n",
            "Epoch 10/20\n",
            "100/100 [==============================] - 4s 41ms/step - loss: 0.8790 - accuracy: 0.7255 - val_loss: 0.9252 - val_accuracy: 0.7010\n",
            "Epoch 11/20\n",
            "100/100 [==============================] - 4s 42ms/step - loss: 0.7964 - accuracy: 0.7535 - val_loss: 0.7899 - val_accuracy: 0.7420\n",
            "Epoch 12/20\n",
            "100/100 [==============================] - 4s 41ms/step - loss: 0.7519 - accuracy: 0.7590 - val_loss: 0.8335 - val_accuracy: 0.7270\n",
            "Epoch 13/20\n",
            "100/100 [==============================] - 4s 40ms/step - loss: 0.6730 - accuracy: 0.7805 - val_loss: 0.6838 - val_accuracy: 0.7500\n",
            "Epoch 14/20\n",
            "100/100 [==============================] - 4s 41ms/step - loss: 0.6072 - accuracy: 0.8070 - val_loss: 0.5345 - val_accuracy: 0.8270\n",
            "Epoch 15/20\n",
            "100/100 [==============================] - 4s 41ms/step - loss: 0.5368 - accuracy: 0.8275 - val_loss: 0.5618 - val_accuracy: 0.8190\n",
            "Epoch 16/20\n",
            "100/100 [==============================] - 4s 40ms/step - loss: 0.5515 - accuracy: 0.8155 - val_loss: 0.4595 - val_accuracy: 0.8550\n",
            "Epoch 17/20\n",
            "100/100 [==============================] - 4s 41ms/step - loss: 0.4897 - accuracy: 0.8430 - val_loss: 0.4595 - val_accuracy: 0.8710\n",
            "Epoch 18/20\n",
            "100/100 [==============================] - 4s 40ms/step - loss: 0.4246 - accuracy: 0.8615 - val_loss: 0.3865 - val_accuracy: 0.8780\n",
            "Epoch 19/20\n",
            "100/100 [==============================] - 4s 41ms/step - loss: 0.4277 - accuracy: 0.8515 - val_loss: 0.5169 - val_accuracy: 0.8340\n",
            "Epoch 20/20\n",
            "100/100 [==============================] - 4s 41ms/step - loss: 0.4076 - accuracy: 0.8615 - val_loss: 0.3502 - val_accuracy: 0.8870\n"
          ]
        }
      ]
    },
    {
      "cell_type": "code",
      "source": [
        "# Retrieve a list of accuracy results on training and validation data\n",
        "# sets for each training epoch\n",
        "acc = history.history['accuracy']\n",
        "val_acc = history.history['val_accuracy']\n",
        "\n",
        "# Retrieve a list of list results on training and validation data\n",
        "# sets for each training epoch\n",
        "loss = history.history['loss']\n",
        "val_loss = history.history['val_loss']\n",
        "\n",
        "# Get number of epochs\n",
        "epochs = range(len(acc))\n",
        "\n",
        "# Plot training and validation accuracy per epoch\n",
        "plt.plot(epochs, acc)\n",
        "plt.plot(epochs, val_acc)\n",
        "plt.title('Training and validation accuracy')\n",
        "\n",
        "plt.figure()\n",
        "\n",
        "# Plot training and validation loss per epoch\n",
        "plt.plot(epochs, loss)\n",
        "plt.plot(epochs, val_loss)\n",
        "plt.title('Training and validation loss')"
      ],
      "metadata": {
        "colab": {
          "base_uri": "https://localhost:8080/",
          "height": 563
        },
        "id": "TQeTqJ5nbIJp",
        "outputId": "aa106bfc-8699-4e96-c2ec-c6afc00ed5b2"
      },
      "execution_count": null,
      "outputs": [
        {
          "output_type": "execute_result",
          "data": {
            "text/plain": [
              "Text(0.5, 1.0, 'Training and validation loss')"
            ]
          },
          "metadata": {},
          "execution_count": 32
        },
        {
          "output_type": "display_data",
          "data": {
            "text/plain": [
              "<Figure size 432x288 with 1 Axes>"
            ],
            "image/png": "[encoded data removed]"
          },
          "metadata": {
            "needs_background": "light"
          }
        },
        {
          "output_type": "display_data",
          "data": {
            "text/plain": [
              "<Figure size 432x288 with 1 Axes>"
            ],
            "image/png": "[encoded data removed]"
          },
          "metadata": {
            "needs_background": "light"
          }
        }
      ]
    }
  ]
}
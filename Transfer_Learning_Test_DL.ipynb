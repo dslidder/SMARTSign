{
  "nbformat": 4,
  "nbformat_minor": 0,
  "metadata": {
    "colab": {
      "name": "Transfer Learning Test DL.ipynb",
      "provenance": [],
      "collapsed_sections": [],
      "authorship_tag": "ABX9TyN4Pm4KGYBVE3oIDOMcX/tp",
      "include_colab_link": true
    },
    "kernelspec": {
      "name": "python3",
      "display_name": "Python 3"
    },
    "language_info": {
      "name": "python"
    },
    "gpuClass": "standard",
    "accelerator": "GPU"
  },
  "cells": [
    {
      "cell_type": "markdown",
      "metadata": {
        "id": "view-in-github",
        "colab_type": "text"
      },
      "source": [
        "<a href=\"https://colab.research.google.com/github/dslidder/SMARTSign/blob/main/Transfer_Learning_Test_DL.ipynb\" target=\"_parent\"><img src=\"https://colab.research.google.com/assets/colab-badge.svg\" alt=\"Open In Colab\"/></a>"
      ]
    },
    {
      "cell_type": "code",
      "execution_count": 3,
      "metadata": {
        "id": "kh_r5b0tHTTf"
      },
      "outputs": [],
      "source": [
        "import tensorflow as tf\n",
        "import matplotlib.pyplot as plt\n",
        "import os\n",
        "import zipfile\n",
        "import random\n",
        "from tensorflow.keras.optimizers import RMSprop\n",
        "from tensorflow.keras.preprocessing.image import ImageDataGenerator\n",
        "from shutil import copyfile"
      ]
    },
    {
      "cell_type": "code",
      "source": [
        "!gdown --id '1rxPSmvF8RAB9x5VMscBsnKxeBkzO8H7S'"
      ],
      "metadata": {
        "colab": {
          "base_uri": "https://localhost:8080/"
        },
        "id": "JZiQ0IUzxiOh",
        "outputId": "1d9d41a2-bdde-4694-8150-942f7c1bfca7"
      },
      "execution_count": 4,
      "outputs": [
        {
          "output_type": "stream",
          "name": "stdout",
          "text": [
            "/usr/local/lib/python3.7/dist-packages/gdown/cli.py:131: FutureWarning: Option `--id` was deprecated in version 4.3.1 and will be removed in 5.0. You don't need to pass it anymore to use a file ID.\n",
            "  category=FutureWarning,\n",
            "Downloading...\n",
            "From: https://drive.google.com/uc?id=1rxPSmvF8RAB9x5VMscBsnKxeBkzO8H7S\n",
            "To: /content/kaggle.json\n",
            "100% 64.0/64.0 [00:00<00:00, 117kB/s]\n"
          ]
        }
      ]
    },
    {
      "cell_type": "code",
      "source": [
        "! pip install kaggle\n",
        "! mkdir ~/.kaggle\n",
        "! cp kaggle.json ~/.kaggle/\n",
        "! chmod 600 ~/.kaggle/kaggle.json\n",
        "\n",
        "! kaggle datasets download grassknoted/asl-alphabet\n",
        "\n",
        "!unzip asl-alphabet"
      ],
      "metadata": {
        "id": "WzTAsnFj83n5"
      },
      "execution_count": null,
      "outputs": []
    },
    {
      "cell_type": "code",
      "source": [
        "! rm -rf asl-alphabet.zip"
      ],
      "metadata": {
        "id": "9swjVt9ySiOM"
      },
      "execution_count": 6,
      "outputs": []
    },
    {
      "cell_type": "code",
      "source": [
        "try:\n",
        "    os.mkdir('/tmp/asldata')\n",
        "    os.mkdir('/tmp/asldata/train')\n",
        "    os.mkdir('/tmp/asldata/test')\n",
        "except OSError:\n",
        "  pass"
      ],
      "metadata": {
        "id": "gZdngZkfAcnd"
      },
      "execution_count": 7,
      "outputs": []
    },
    {
      "cell_type": "code",
      "source": [
        "try:   \n",
        "    os.mkdir('/tmp/asldata/train/A')\n",
        "    os.mkdir('/tmp/asldata/train/B')\n",
        "    os.mkdir('/tmp/asldata/train/C')\n",
        "    os.mkdir('/tmp/asldata/train/D')\n",
        "    os.mkdir('/tmp/asldata/train/E')\n",
        "    os.mkdir('/tmp/asldata/train/F')\n",
        "    os.mkdir('/tmp/asldata/train/G')\n",
        "    os.mkdir('/tmp/asldata/train/H')\n",
        "    os.mkdir('/tmp/asldata/train/I')\n",
        "    os.mkdir('/tmp/asldata/train/J')\n",
        "    os.mkdir('/tmp/asldata/train/K')\n",
        "    os.mkdir('/tmp/asldata/train/L')\n",
        "    os.mkdir('/tmp/asldata/train/M')\n",
        "    os.mkdir('/tmp/asldata/train/N')\n",
        "    os.mkdir('/tmp/asldata/train/O')\n",
        "    os.mkdir('/tmp/asldata/train/P')\n",
        "    os.mkdir('/tmp/asldata/train/Q')\n",
        "    os.mkdir('/tmp/asldata/train/R')\n",
        "    os.mkdir('/tmp/asldata/train/S')\n",
        "    os.mkdir('/tmp/asldata/train/T')\n",
        "    os.mkdir('/tmp/asldata/train/U')\n",
        "    os.mkdir('/tmp/asldata/train/V')\n",
        "    os.mkdir('/tmp/asldata/train/W')\n",
        "    os.mkdir('/tmp/asldata/train/X')\n",
        "    os.mkdir('/tmp/asldata/train/Y')\n",
        "    os.mkdir('/tmp/asldata/train/Z')\n",
        "    os.mkdir('/tmp/asldata/train/space')\n",
        "    os.mkdir('/tmp/asldata/train/nothing')\n",
        "except OSError:\n",
        "  pass"
      ],
      "metadata": {
        "id": "GjBdjX4QM4DR"
      },
      "execution_count": 8,
      "outputs": []
    },
    {
      "cell_type": "code",
      "source": [
        "try:\n",
        "    os.mkdir('/tmp/asldata/test/A')\n",
        "    os.mkdir('/tmp/asldata/test/B')\n",
        "    os.mkdir('/tmp/asldata/test/C')\n",
        "    os.mkdir('/tmp/asldata/test/D')\n",
        "    os.mkdir('/tmp/asldata/test/E')\n",
        "    os.mkdir('/tmp/asldata/test/F')\n",
        "    os.mkdir('/tmp/asldata/test/G')\n",
        "    os.mkdir('/tmp/asldata/test/H')\n",
        "    os.mkdir('/tmp/asldata/test/I')\n",
        "    os.mkdir('/tmp/asldata/test/J')\n",
        "    os.mkdir('/tmp/asldata/test/K')\n",
        "    os.mkdir('/tmp/asldata/test/L')\n",
        "    os.mkdir('/tmp/asldata/test/M')\n",
        "    os.mkdir('/tmp/asldata/test/N')\n",
        "    os.mkdir('/tmp/asldata/test/O')\n",
        "    os.mkdir('/tmp/asldata/test/P')\n",
        "    os.mkdir('/tmp/asldata/test/Q')\n",
        "    os.mkdir('/tmp/asldata/test/R')\n",
        "    os.mkdir('/tmp/asldata/test/S')\n",
        "    os.mkdir('/tmp/asldata/test/T')\n",
        "    os.mkdir('/tmp/asldata/test/U')\n",
        "    os.mkdir('/tmp/asldata/test/V')\n",
        "    os.mkdir('/tmp/asldata/test/W')\n",
        "    os.mkdir('/tmp/asldata/test/X')\n",
        "    os.mkdir('/tmp/asldata/test/Y')\n",
        "    os.mkdir('/tmp/asldata/test/Z')\n",
        "    os.mkdir('/tmp/asldata/test/space')\n",
        "    os.mkdir('/tmp/asldata/test/nothing')\n",
        "except OSError:\n",
        "  pass"
      ],
      "metadata": {
        "id": "nszAI4SVNNzT"
      },
      "execution_count": 9,
      "outputs": []
    },
    {
      "cell_type": "code",
      "source": [
        "! rm -rf asl_alphabet_train/asl_alphabet_train/del"
      ],
      "metadata": {
        "id": "G1rrg_bINRdM"
      },
      "execution_count": 10,
      "outputs": []
    },
    {
      "cell_type": "code",
      "source": [
        "def split_data(SOURCE, TRAINING, TESTING, SPLIT_SIZE):\n",
        "    files = []\n",
        "    for filename in os.listdir(SOURCE):\n",
        "      for image in os.listdir(SOURCE + filename):\n",
        "        file = SOURCE + filename + \"/\" + image\n",
        "        if os.path.getsize(file) > 0:\n",
        "            files.append(filename + \"/\" + image)\n",
        "        else:\n",
        "            print(image + \" is zero length, so ignoring.\")\n",
        "\n",
        "    training_length = int(len(files) * SPLIT_SIZE)\n",
        "    testing_length = int(len(files) - training_length)\n",
        "    shuffled_set = random.sample(files, len(files))\n",
        "    training_set = shuffled_set[0:training_length]\n",
        "    testing_set = shuffled_set[-testing_length:]\n",
        "\n",
        "    for filename in training_set:\n",
        "        this_file = SOURCE + filename\n",
        "        destination = TRAINING + filename\n",
        "        copyfile(this_file, destination)\n",
        "\n",
        "    for filename in testing_set:\n",
        "        this_file = SOURCE + filename\n",
        "        destination = TESTING + filename\n",
        "        copyfile(this_file, destination)\n",
        "\n",
        "\n",
        "Source_DIR = \"asl_alphabet_train/asl_alphabet_train/\"\n",
        "Training_DIR = \"/tmp/asldata/train/\"\n",
        "Testing_DIR = \"/tmp/asldata/test/\"\n",
        "\n",
        "split_size = .9\n",
        "split_data(Source_DIR, Training_DIR, Testing_DIR, split_size)\n"
      ],
      "metadata": {
        "id": "uOmaJdcYNaIk"
      },
      "execution_count": 11,
      "outputs": []
    },
    {
      "cell_type": "code",
      "source": [
        "base_dir = '/tmp/asldata'\n",
        "train_dir = os.path.join(base_dir, 'train')\n",
        "validation_dir = os.path.join(base_dir, 'test')"
      ],
      "metadata": {
        "id": "XLIHZW9WB0yl"
      },
      "execution_count": 12,
      "outputs": []
    },
    {
      "cell_type": "code",
      "source": [
        "train_datagen = ImageDataGenerator(rescale=1./255)\n",
        "test_datagen = ImageDataGenerator(rescale=1./255)\n",
        "\n",
        "train_generator = train_datagen.flow_from_directory(\n",
        "        train_dir,\n",
        "        target_size=(112, 112),\n",
        "        batch_size=20,\n",
        "        class_mode='categorical')\n",
        "\n",
        "validation_generator = test_datagen.flow_from_directory(\n",
        "        validation_dir,\n",
        "        target_size=(112, 112),\n",
        "        batch_size=20,\n",
        "        class_mode='categorical')"
      ],
      "metadata": {
        "colab": {
          "base_uri": "https://localhost:8080/"
        },
        "id": "B_Eqy3AwOPKs",
        "outputId": "8759b28e-9424-4492-d7f2-c37d0b322f8e"
      },
      "execution_count": 13,
      "outputs": [
        {
          "output_type": "stream",
          "name": "stdout",
          "text": [
            "Found 75600 images belonging to 28 classes.\n",
            "Found 8400 images belonging to 28 classes.\n"
          ]
        }
      ]
    },
    {
      "cell_type": "code",
      "source": [
        "from tensorflow.keras.applications.inception_v3 import InceptionV3\n",
        "from tensorflow.keras.preprocessing import image\n",
        "from tensorflow.keras.models import Model\n",
        "from tensorflow.keras.layers import Dense, GlobalAveragePooling2D\n",
        "from tensorflow.keras.optimizers import SGD\n",
        "\n",
        "\n",
        "base_model = InceptionV3(weights='imagenet', include_top=False) # create the base pre-trained model\n",
        "\n",
        "x = base_model.output\n",
        "x = GlobalAveragePooling2D()(x) # add a global spatial average pooling layer\n",
        "x = Dense(1024, activation='relu')(x) # let's add a fully-connected layer\n",
        "\n",
        "predictions = Dense(28, activation='softmax')(x) # and a logistic layer -- let's say we have 200 classes\n",
        "\n",
        "\n",
        "model = Model(inputs=base_model.input, outputs=predictions) # this is the model we will train\n",
        "\n",
        "# first: train only the top layers (which were randomly initialized)\n",
        "# i.e. freeze all convolutional InceptionV3 layers\n",
        "for layer in base_model.layers:\n",
        "    layer.trainable = False\n",
        "\n",
        "# compile the model (should be done *after* setting layers to non-trainable)\n",
        "model.compile(optimizer='adam', loss='categorical_crossentropy')\n",
        "\n",
        "# train the model on the new data for a few epochs\n",
        "model.fit(train_generator, epochs=20, validation_data=validation_generator,steps_per_epoch=100,validation_steps=50,verbose=1)\n",
        "\n",
        "# at this point, the top layers are well trained and we can start fine-tuning\n",
        "# convolutional layers from inception V3. We will freeze the bottom N layers\n",
        "# and train the remaining top layers.\n",
        "\n",
        "# let's visualize layer names and layer indices to see how many layers\n",
        "# we should freeze:\n",
        " #    #for i, layer in enumerate(base_model.layers):\n",
        " #      #print(i, layer.name)\n",
        "\n",
        "# we chose to train the top 2 inception blocks, i.e. we will freeze\n",
        "# the first 249 layers and unfreeze the rest:\n",
        "for layer in model.layers[:249]:\n",
        "   layer.trainable = False\n",
        "for layer in model.layers[249:]:\n",
        "   layer.trainable = True\n",
        "\n",
        "# we need to recompile the model for these modifications to take effect\n",
        "# we use SGD with a low learning rate\n",
        "\n",
        "model.compile(optimizer=SGD(lr=0.0001, momentum=0.9), loss='categorical_crossentropy')\n",
        "\n",
        "# we train our model again (this time fine-tuning the top 2 inception blocks\n",
        "# alongside the top Dense \n",
        "model.compile(optimizer='adam', loss='categorical_crossentropy', metrics=['accuracy'])\n",
        "history = model.fit(train_generator, epochs=50, validation_data=validation_generator,steps_per_epoch=100,validation_steps=50,verbose=1)\n"
      ],
      "metadata": {
        "colab": {
          "base_uri": "https://localhost:8080/"
        },
        "id": "j7m-sMHWKwbP",
        "outputId": "ebaeb463-d651-4767-d8fc-1370cb50e59e"
      },
      "execution_count": 14,
      "outputs": [
        {
          "output_type": "stream",
          "name": "stdout",
          "text": [
            "Downloading data from https://storage.googleapis.com/tensorflow/keras-applications/inception_v3/inception_v3_weights_tf_dim_ordering_tf_kernels_notop.h5\n",
            "87916544/87910968 [==============================] - 0s 0us/step\n",
            "87924736/87910968 [==============================] - 0s 0us/step\n",
            "Epoch 1/20\n",
            "100/100 [==============================] - 20s 58ms/step - loss: 2.5976 - val_loss: 1.6118\n",
            "Epoch 2/20\n",
            "100/100 [==============================] - 5s 46ms/step - loss: 1.3040 - val_loss: 1.0794\n",
            "Epoch 3/20\n",
            "100/100 [==============================] - 5s 47ms/step - loss: 0.9262 - val_loss: 1.1860\n",
            "Epoch 4/20\n",
            "100/100 [==============================] - 5s 46ms/step - loss: 0.8903 - val_loss: 0.7509\n",
            "Epoch 5/20\n",
            "100/100 [==============================] - 5s 47ms/step - loss: 0.7266 - val_loss: 0.6099\n",
            "Epoch 6/20\n",
            "100/100 [==============================] - 5s 46ms/step - loss: 0.6513 - val_loss: 0.6020\n",
            "Epoch 7/20\n",
            "100/100 [==============================] - 5s 46ms/step - loss: 0.5825 - val_loss: 0.5735\n",
            "Epoch 8/20\n",
            "100/100 [==============================] - 5s 51ms/step - loss: 0.4902 - val_loss: 0.4651\n",
            "Epoch 9/20\n",
            "100/100 [==============================] - 5s 46ms/step - loss: 0.5221 - val_loss: 0.4543\n",
            "Epoch 10/20\n",
            "100/100 [==============================] - 5s 47ms/step - loss: 0.4989 - val_loss: 0.4097\n",
            "Epoch 11/20\n",
            "100/100 [==============================] - 5s 46ms/step - loss: 0.3865 - val_loss: 0.4131\n",
            "Epoch 12/20\n",
            "100/100 [==============================] - 5s 46ms/step - loss: 0.3724 - val_loss: 0.5145\n",
            "Epoch 13/20\n",
            "100/100 [==============================] - 5s 46ms/step - loss: 0.3689 - val_loss: 0.4788\n",
            "Epoch 14/20\n",
            "100/100 [==============================] - 5s 46ms/step - loss: 0.3683 - val_loss: 0.3512\n",
            "Epoch 15/20\n",
            "100/100 [==============================] - 5s 46ms/step - loss: 0.3153 - val_loss: 0.3354\n",
            "Epoch 16/20\n",
            "100/100 [==============================] - 5s 47ms/step - loss: 0.3446 - val_loss: 0.3105\n",
            "Epoch 17/20\n",
            "100/100 [==============================] - 5s 46ms/step - loss: 0.3247 - val_loss: 0.3934\n",
            "Epoch 18/20\n",
            "100/100 [==============================] - 5s 46ms/step - loss: 0.3248 - val_loss: 0.4476\n",
            "Epoch 19/20\n",
            "100/100 [==============================] - 5s 47ms/step - loss: 0.3012 - val_loss: 0.3650\n",
            "Epoch 20/20\n",
            "100/100 [==============================] - 5s 46ms/step - loss: 0.3055 - val_loss: 0.2874\n",
            "Epoch 1/50\n"
          ]
        },
        {
          "output_type": "stream",
          "name": "stderr",
          "text": [
            "/usr/local/lib/python3.7/dist-packages/keras/optimizer_v2/gradient_descent.py:102: UserWarning: The `lr` argument is deprecated, use `learning_rate` instead.\n",
            "  super(SGD, self).__init__(name, **kwargs)\n"
          ]
        },
        {
          "output_type": "stream",
          "name": "stdout",
          "text": [
            "100/100 [==============================] - 12s 63ms/step - loss: 1.4279 - accuracy: 0.5910 - val_loss: 1.9393 - val_accuracy: 0.6320\n",
            "Epoch 2/50\n",
            "100/100 [==============================] - 5s 51ms/step - loss: 0.8114 - accuracy: 0.7485 - val_loss: 0.6429 - val_accuracy: 0.8290\n",
            "Epoch 3/50\n",
            "100/100 [==============================] - 5s 50ms/step - loss: 0.5406 - accuracy: 0.8280 - val_loss: 0.4765 - val_accuracy: 0.8580\n",
            "Epoch 4/50\n",
            "100/100 [==============================] - 5s 50ms/step - loss: 0.5376 - accuracy: 0.8255 - val_loss: 0.3656 - val_accuracy: 0.8970\n",
            "Epoch 5/50\n",
            "100/100 [==============================] - 5s 50ms/step - loss: 0.4045 - accuracy: 0.8650 - val_loss: 0.3118 - val_accuracy: 0.8980\n",
            "Epoch 6/50\n",
            "100/100 [==============================] - 5s 50ms/step - loss: 0.3619 - accuracy: 0.8860 - val_loss: 0.2973 - val_accuracy: 0.9170\n",
            "Epoch 7/50\n",
            "100/100 [==============================] - 5s 50ms/step - loss: 0.3140 - accuracy: 0.9005 - val_loss: 0.3784 - val_accuracy: 0.9130\n",
            "Epoch 8/50\n",
            "100/100 [==============================] - 5s 50ms/step - loss: 0.3187 - accuracy: 0.8970 - val_loss: 0.5022 - val_accuracy: 0.9200\n",
            "Epoch 9/50\n",
            "100/100 [==============================] - 5s 51ms/step - loss: 0.2759 - accuracy: 0.9145 - val_loss: 0.1754 - val_accuracy: 0.9470\n",
            "Epoch 10/50\n",
            "100/100 [==============================] - 5s 50ms/step - loss: 0.2655 - accuracy: 0.9095 - val_loss: 0.2970 - val_accuracy: 0.9160\n",
            "Epoch 11/50\n",
            "100/100 [==============================] - 5s 49ms/step - loss: 0.2625 - accuracy: 0.9185 - val_loss: 0.1645 - val_accuracy: 0.9470\n",
            "Epoch 12/50\n",
            "100/100 [==============================] - 5s 50ms/step - loss: 0.2301 - accuracy: 0.9250 - val_loss: 0.2328 - val_accuracy: 0.9220\n",
            "Epoch 13/50\n",
            "100/100 [==============================] - 5s 50ms/step - loss: 0.2177 - accuracy: 0.9330 - val_loss: 0.0959 - val_accuracy: 0.9630\n",
            "Epoch 14/50\n",
            "100/100 [==============================] - 5s 50ms/step - loss: 0.2076 - accuracy: 0.9355 - val_loss: 0.1466 - val_accuracy: 0.9550\n",
            "Epoch 15/50\n",
            "100/100 [==============================] - 5s 51ms/step - loss: 0.1767 - accuracy: 0.9480 - val_loss: 0.1341 - val_accuracy: 0.9510\n",
            "Epoch 16/50\n",
            "100/100 [==============================] - 5s 50ms/step - loss: 0.1774 - accuracy: 0.9455 - val_loss: 0.0890 - val_accuracy: 0.9700\n",
            "Epoch 17/50\n",
            "100/100 [==============================] - 5s 50ms/step - loss: 0.1605 - accuracy: 0.9485 - val_loss: 0.1492 - val_accuracy: 0.9600\n",
            "Epoch 18/50\n",
            "100/100 [==============================] - 5s 51ms/step - loss: 0.1605 - accuracy: 0.9510 - val_loss: 0.2010 - val_accuracy: 0.9470\n",
            "Epoch 19/50\n",
            "100/100 [==============================] - 5s 50ms/step - loss: 0.1697 - accuracy: 0.9430 - val_loss: 0.1800 - val_accuracy: 0.9620\n",
            "Epoch 20/50\n",
            "100/100 [==============================] - 5s 50ms/step - loss: 0.1392 - accuracy: 0.9610 - val_loss: 0.1930 - val_accuracy: 0.9470\n",
            "Epoch 21/50\n",
            "100/100 [==============================] - 5s 50ms/step - loss: 0.1548 - accuracy: 0.9515 - val_loss: 0.2191 - val_accuracy: 0.9420\n",
            "Epoch 22/50\n",
            "100/100 [==============================] - 5s 50ms/step - loss: 0.1406 - accuracy: 0.9470 - val_loss: 0.1476 - val_accuracy: 0.9590\n",
            "Epoch 23/50\n",
            "100/100 [==============================] - 5s 50ms/step - loss: 0.1518 - accuracy: 0.9565 - val_loss: 0.0861 - val_accuracy: 0.9730\n",
            "Epoch 24/50\n",
            "100/100 [==============================] - 5s 51ms/step - loss: 0.1421 - accuracy: 0.9555 - val_loss: 0.0701 - val_accuracy: 0.9770\n",
            "Epoch 25/50\n",
            "100/100 [==============================] - 5s 51ms/step - loss: 0.1463 - accuracy: 0.9550 - val_loss: 0.0520 - val_accuracy: 0.9820\n",
            "Epoch 26/50\n",
            "100/100 [==============================] - 5s 50ms/step - loss: 0.1154 - accuracy: 0.9645 - val_loss: 0.0788 - val_accuracy: 0.9690\n",
            "Epoch 27/50\n",
            "100/100 [==============================] - 5s 50ms/step - loss: 0.0929 - accuracy: 0.9675 - val_loss: 0.0533 - val_accuracy: 0.9850\n",
            "Epoch 28/50\n",
            "100/100 [==============================] - 5s 50ms/step - loss: 0.0912 - accuracy: 0.9700 - val_loss: 0.0878 - val_accuracy: 0.9790\n",
            "Epoch 29/50\n",
            "100/100 [==============================] - 5s 51ms/step - loss: 0.0905 - accuracy: 0.9725 - val_loss: 0.1506 - val_accuracy: 0.9620\n",
            "Epoch 30/50\n",
            "100/100 [==============================] - 5s 50ms/step - loss: 0.1072 - accuracy: 0.9620 - val_loss: 0.0870 - val_accuracy: 0.9690\n",
            "Epoch 31/50\n",
            "100/100 [==============================] - 5s 51ms/step - loss: 0.1132 - accuracy: 0.9620 - val_loss: 0.0868 - val_accuracy: 0.9780\n",
            "Epoch 32/50\n",
            "100/100 [==============================] - 5s 51ms/step - loss: 0.1046 - accuracy: 0.9680 - val_loss: 0.0490 - val_accuracy: 0.9830\n",
            "Epoch 33/50\n",
            "100/100 [==============================] - 5s 50ms/step - loss: 0.1075 - accuracy: 0.9675 - val_loss: 0.0700 - val_accuracy: 0.9780\n",
            "Epoch 34/50\n",
            "100/100 [==============================] - 5s 50ms/step - loss: 0.1124 - accuracy: 0.9645 - val_loss: 0.0646 - val_accuracy: 0.9760\n",
            "Epoch 35/50\n",
            "100/100 [==============================] - 5s 50ms/step - loss: 0.1395 - accuracy: 0.9545 - val_loss: 0.0898 - val_accuracy: 0.9720\n",
            "Epoch 36/50\n",
            "100/100 [==============================] - 5s 50ms/step - loss: 0.1223 - accuracy: 0.9640 - val_loss: 0.1552 - val_accuracy: 0.9570\n",
            "Epoch 37/50\n",
            "100/100 [==============================] - 5s 50ms/step - loss: 0.1197 - accuracy: 0.9600 - val_loss: 0.0701 - val_accuracy: 0.9810\n",
            "Epoch 38/50\n",
            "100/100 [==============================] - 5s 50ms/step - loss: 0.0964 - accuracy: 0.9705 - val_loss: 0.0875 - val_accuracy: 0.9780\n",
            "Epoch 39/50\n",
            "100/100 [==============================] - 5s 50ms/step - loss: 0.1036 - accuracy: 0.9745 - val_loss: 0.0653 - val_accuracy: 0.9750\n",
            "Epoch 40/50\n",
            "100/100 [==============================] - 5s 50ms/step - loss: 0.1182 - accuracy: 0.9645 - val_loss: 0.0367 - val_accuracy: 0.9900\n",
            "Epoch 41/50\n",
            "100/100 [==============================] - 5s 51ms/step - loss: 0.0696 - accuracy: 0.9760 - val_loss: 0.0602 - val_accuracy: 0.9820\n",
            "Epoch 42/50\n",
            "100/100 [==============================] - 5s 51ms/step - loss: 0.0851 - accuracy: 0.9710 - val_loss: 0.0329 - val_accuracy: 0.9890\n",
            "Epoch 43/50\n",
            "100/100 [==============================] - 5s 50ms/step - loss: 0.1102 - accuracy: 0.9670 - val_loss: 0.0382 - val_accuracy: 0.9890\n",
            "Epoch 44/50\n",
            "100/100 [==============================] - 5s 51ms/step - loss: 0.0850 - accuracy: 0.9740 - val_loss: 0.0634 - val_accuracy: 0.9830\n",
            "Epoch 45/50\n",
            "100/100 [==============================] - 5s 50ms/step - loss: 0.0843 - accuracy: 0.9705 - val_loss: 0.0447 - val_accuracy: 0.9890\n",
            "Epoch 46/50\n",
            "100/100 [==============================] - 5s 50ms/step - loss: 0.0830 - accuracy: 0.9765 - val_loss: 0.0591 - val_accuracy: 0.9850\n",
            "Epoch 47/50\n",
            "100/100 [==============================] - 5s 50ms/step - loss: 0.0567 - accuracy: 0.9810 - val_loss: 0.0429 - val_accuracy: 0.9860\n",
            "Epoch 48/50\n",
            "100/100 [==============================] - 5s 51ms/step - loss: 0.0819 - accuracy: 0.9725 - val_loss: 0.0391 - val_accuracy: 0.9900\n",
            "Epoch 49/50\n",
            "100/100 [==============================] - 5s 50ms/step - loss: 0.0661 - accuracy: 0.9800 - val_loss: 0.0413 - val_accuracy: 0.9890\n",
            "Epoch 50/50\n",
            "100/100 [==============================] - 5s 51ms/step - loss: 0.1047 - accuracy: 0.9630 - val_loss: 0.0713 - val_accuracy: 0.9810\n"
          ]
        }
      ]
    },
    {
      "cell_type": "code",
      "source": [
        "# Retrieve a list of accuracy results on training and validation data\n",
        "# sets for each training epoch\n",
        "acc = history.history['accuracy']\n",
        "val_acc = history.history['val_accuracy']\n",
        "\n",
        "# Retrieve a list of list results on training and validation data\n",
        "# sets for each training epoch\n",
        "loss = history.history['loss']\n",
        "val_loss = history.history['val_loss']\n",
        "\n",
        "# Get number of epochs\n",
        "epochs = range(len(acc))\n",
        "\n",
        "plt.plot(epochs, acc, label = 'accuracy')\n",
        "plt.plot(epochs, val_acc, label = 'val_acc')\n",
        "plt.legend()\n",
        "plt.title('Training and validation accuracy')\n",
        "\n",
        "plt.figure()\n",
        "\n",
        "plt.plot(epochs, loss, label = 'loss')\n",
        "plt.plot(epochs, val_loss, label = 'val_loss')\n",
        "plt.legend()\n",
        "plt.title('Training and validation loss')"
      ],
      "metadata": {
        "colab": {
          "base_uri": "https://localhost:8080/",
          "height": 563
        },
        "id": "o2b7H4azqvxR",
        "outputId": "a44d1347-4a0c-46db-e4f6-c8a14b6dbcea"
      },
      "execution_count": 15,
      "outputs": [
        {
          "output_type": "execute_result",
          "data": {
            "text/plain": [
              "Text(0.5, 1.0, 'Training and validation loss')"
            ]
          },
          "metadata": {},
          "execution_count": 15
        },
        {
          "output_type": "display_data",
          "data": {
            "text/plain": [
              "<Figure size 432x288 with 1 Axes>"
            ],
            "image/png": "[encoded data removed]"
          },
          "metadata": {
            "needs_background": "light"
          }
        },
        {
          "output_type": "display_data",
          "data": {
            "text/plain": [
              "<Figure size 432x288 with 1 Axes>"
            ],
            "image/png": "[encoded data removed]"
          },
          "metadata": {
            "needs_background": "light"
          }
        }
      ]
    }
  ]
}